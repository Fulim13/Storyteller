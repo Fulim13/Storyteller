{
  "cells": [
    {
      "cell_type": "markdown",
      "metadata": {
        "id": "view-in-github",
        "colab_type": "text"
      },
      "source": [
        "<a href=\"https://colab.research.google.com/github/Fulim13/Storyteller/blob/test/api/fine-tune.ipynb\" target=\"_parent\"><img src=\"https://colab.research.google.com/assets/colab-badge.svg\" alt=\"Open In Colab\"/></a>"
      ]
    },
    {
      "cell_type": "code",
      "execution_count": null,
      "metadata": {
        "id": "Z5ZGxBzbwXrC"
      },
      "outputs": [],
      "source": [
        "!pip install -q accelerate peft bitsandbytes transformers trl sentencepiece"
      ]
    },
    {
      "cell_type": "markdown",
      "metadata": {
        "id": "M2mLxDzQwXrD"
      },
      "source": [
        "# Data Preprocessing\n"
      ]
    },
    {
      "cell_type": "code",
      "source": [
        "\n",
        "# Load dataset\n",
        "# Replace with your dataset name\n",
        "dataset = load_dataset('FareedKhan/1k_stories_100_genre')\n",
        "\n",
        "# Load NER pipeline\n",
        "model_name = \"dslim/bert-base-NER\"  # Pre-trained NER model\n",
        "tokenizer = AutoTokenizer.from_pretrained(model_name)\n",
        "model = AutoModelForTokenClassification.from_pretrained(model_name)\n",
        "ner_pipeline = pipeline(\n",
        "    \"ner\", model=model, tokenizer=tokenizer, aggregation_strategy=\"simple\", device=0)\n",
        "\n",
        "# Function to extract characters using NER\n",
        "\n",
        "\n",
        "def extract_characters(example):\n",
        "    story = example['story']\n",
        "    entities = ner_pipeline(story)  # Run NER on the story\n",
        "   # Filter out only PERSON entities and ensure uniqueness\n",
        "    characters = list(\n",
        "        set(entity['word'] for entity in entities if entity['entity_group'] == 'PER'))\n",
        "    return {\"characters\": characters}\n",
        "\n",
        "\n",
        "# Apply the function to add the characters column\n",
        "dataset = dataset.map(extract_characters)\n",
        "\n",
        "# Inspect the updated dataset\n",
        "print(dataset)"
      ],
      "metadata": {
        "id": "deZcndhXzYDJ"
      },
      "execution_count": null,
      "outputs": []
    },
    {
      "cell_type": "code",
      "execution_count": null,
      "metadata": {
        "id": "quTrb4NgwXrE"
      },
      "outputs": [],
      "source": [
        "dataset['train']['characters'][:5]"
      ]
    },
    {
      "cell_type": "code",
      "execution_count": null,
      "metadata": {
        "id": "2BQnGW8rwXrE"
      },
      "outputs": [],
      "source": [
        "def format_prompt(example):\n",
        "    \"\"\"Create a structured and guiding prompt for story generation.\"\"\"\n",
        "\n",
        "    # Extract data from the example\n",
        "    genre = example[\"genre\"]\n",
        "    # Join characters into a single string\n",
        "    characters = \", \".join(example[\"characters\"])\n",
        "    story = example[\"story\"]\n",
        "    title = example[\"title\"]\n",
        "\n",
        "    # Create the prompt text with a guiding introduction\n",
        "    prompt = (\n",
        "        \"Create a story based on the given genre and title. \"\n",
        "        f\"Genre: {genre}\\n\"\n",
        "        f\"Title:\\n{title}\\n\\n\"\n",
        "        \"Ensure the output includes the following in order:\\n\"\n",
        "        \"1. Characters\\n\"\n",
        "        \"2. The story\\n\"\n",
        "        \"Output:\\n\"\n",
        "        f\"Characters: {characters}\\n\"\n",
        "        f\"Story: {story}\\n\"\n",
        "    )\n",
        "\n",
        "    return {\"text\": prompt}\n",
        "\n",
        "\n",
        "# Apply the formatting to the dataset\n",
        "formatted_dataset = dataset.map(format_prompt)"
      ]
    },
    {
      "cell_type": "code",
      "execution_count": null,
      "metadata": {
        "id": "mvEXTTTLwXrE"
      },
      "outputs": [],
      "source": [
        "print(formatted_dataset['train']['text'][:5])"
      ]
    },
    {
      "cell_type": "code",
      "execution_count": null,
      "metadata": {
        "id": "QoHKW1shwXrE"
      },
      "outputs": [],
      "source": [
        "formatted_dataset.save_to_disk(\"./datasets/processed_stories\")"
      ]
    },
    {
      "cell_type": "code",
      "execution_count": null,
      "metadata": {
        "id": "bN9tw-_3wXrF"
      },
      "outputs": [],
      "source": [
        "from datasets import load_from_disk\n",
        "\n",
        "# Load the dataset from the saved directory\n",
        "# Replace with the path you used earlier\n",
        "dataset = load_from_disk(\"./datasets/processed_stories\")\n",
        "\n",
        "# Inspect the loaded dataset\n",
        "print(dataset)"
      ]
    },
    {
      "cell_type": "code",
      "execution_count": null,
      "metadata": {
        "id": "o3F6fmyewXrF"
      },
      "outputs": [],
      "source": [
        "dataset = dataset.filter(lambda example, index: index %\n",
        "                         100 == 0, with_indices=True)\n",
        "print(dataset)"
      ]
    },
    {
      "cell_type": "code",
      "execution_count": null,
      "metadata": {
        "id": "uBMr7IvPwXrD"
      },
      "outputs": [],
      "source": [
        "from transformers import AutoTokenizer, AutoModelForTokenClassification, AutoModelForSeq2SeqLM, pipeline\n",
        "from datasets import load_dataset"
      ]
    },
    {
      "cell_type": "code",
      "source": [
        "from transformers import AutoTokenizer, AutoModelForTokenClassification, pipeline\n",
        "from datasets import load_dataset\n",
        "\n",
        "# Load dataset with specified split\n",
        "dataset = load_dataset('FareedKhan/1k_stories_100_genre', split=\"train\")\n",
        "\n",
        "# Shuffle and select a range\n",
        "dataset = dataset.shuffle(seed=42).select(range(10))\n",
        "\n",
        "# Load NER pipeline\n",
        "model_name = \"dslim/bert-base-NER\"  # Pre-trained NER model\n",
        "tokenizer = AutoTokenizer.from_pretrained(model_name)\n",
        "model = AutoModelForTokenClassification.from_pretrained(model_name)\n",
        "ner_pipeline = pipeline(\n",
        "    \"ner\", model=model, tokenizer=tokenizer, aggregation_strategy=\"simple\", device=0)\n",
        "\n",
        "# Function to extract characters using NER\n",
        "def extract_characters(example):\n",
        "    story = example['story']\n",
        "    entities = ner_pipeline(story)  # Run NER on the story\n",
        "    # Filter out only PERSON entities and ensure uniqueness\n",
        "    characters = list(\n",
        "        set(entity['word'] for entity in entities if entity['entity_group'] == 'PER'))\n",
        "    return {\"characters\": characters}\n",
        "\n",
        "# Apply the function to add the characters column\n",
        "dataset = dataset.map(extract_characters)\n",
        "\n",
        "# Function to format the prompt\n",
        "def format_prompt(example):\n",
        "    \"\"\"Create a structured and guiding prompt for story generation.\"\"\"\n",
        "    # Extract data from the example\n",
        "    genre = example[\"genre\"]\n",
        "    characters = \", \".join(example[\"characters\"])\n",
        "    story = example[\"story\"]\n",
        "    title = example[\"title\"]\n",
        "\n",
        "    # Create the prompt text with a guiding introduction\n",
        "    prompt = (\n",
        "        \"Create a story based on the given genre and title. \"\n",
        "        f\"Genre: {genre}\\n\"\n",
        "        f\"Title:\\n{title}\\n\\n\"\n",
        "        \"Ensure the output includes the following in order:\\n\"\n",
        "        \"1. Characters\\n\"\n",
        "        \"2. The story\\n\"\n",
        "        \"Output:\\n\"\n",
        "        f\"Characters: {characters}\\n\"\n",
        "        f\"Story: {story}\\n\"\n",
        "    )\n",
        "\n",
        "    return {\"text\": prompt}\n",
        "\n",
        "# Apply formatting and retain only {\"text\": prompt}\n",
        "dataset = dataset.map(format_prompt)\n",
        "\n",
        "# Inspect the final dataset\n",
        "print(dataset)\n"
      ],
      "metadata": {
        "id": "7okOT8TXoGA0"
      },
      "execution_count": null,
      "outputs": []
    },
    {
      "cell_type": "code",
      "source": [
        "from google.colab import userdata\n",
        "HUGGINGFACE_TOKEN = userdata.get('HF_TOKEN')"
      ],
      "metadata": {
        "id": "4X_uB5VmxEcQ"
      },
      "execution_count": null,
      "outputs": []
    },
    {
      "cell_type": "code",
      "source": [
        "import torch\n",
        "from transformers import AutoModelForCausalLM, AutoTokenizer, BitsAndBytesConfig\n",
        "\n",
        "model_name = \"meta-llama/Llama-3.1-8B\"\n",
        "\n",
        "# 4-bit quantization configuration - Q in QLoRA\n",
        "bnb_config = BitsAndBytesConfig(\n",
        "    load_in_4bit=True,  # Use 4-bit precision model loading\n",
        "    bnb_4bit_quant_type=\"nf4\",  # Quantization type\n",
        "    bnb_4bit_compute_dtype=\"float16\",  # Compute dtype\n",
        "    bnb_4bit_use_double_quant=True,  # Apply nested quantization\n",
        "    llm_int8_enable_fp32_cpu_offload=True,\n",
        ")\n",
        "\n",
        "# Load the model to train on the GPU\n",
        "model = AutoModelForCausalLM.from_pretrained(\n",
        "    model_name,\n",
        "    device_map=\"auto\",\n",
        "    # Leave this out for regular SFT\n",
        "    quantization_config=bnb_config,\n",
        "    token=HUGGINGFACE_TOKEN\n",
        ")\n",
        "model.config.use_cache = False\n",
        "model.config.pretraining_tp = 1\n",
        "\n",
        "# Load LLaMA tokenizer\n",
        "tokenizer = AutoTokenizer.from_pretrained(model_name, trust_remote_code=True)\n",
        "tokenizer.pad_token = \"<PAD>\"\n",
        "tokenizer.padding_side = \"right\""
      ],
      "metadata": {
        "id": "8g_efbnS4SQJ"
      },
      "execution_count": null,
      "outputs": []
    },
    {
      "cell_type": "markdown",
      "metadata": {
        "id": "r9U6Fec_wXrF"
      },
      "source": []
    },
    {
      "cell_type": "code",
      "source": [
        "from peft import LoraConfig, prepare_model_for_kbit_training, get_peft_model\n",
        "\n",
        "peft_config = LoraConfig(\n",
        "    lora_alpha=32,  # LoRA Scaling\n",
        "    lora_dropout=0.1,  # Dropout for LoRA Layers\n",
        "    r=32,  # Rank\n",
        "    bias=\"none\",\n",
        "    task_type=\"CAUSAL_LM\",\n",
        "    target_modules= ['k_proj', 'gate_proj', 'v_proj', 'up_proj', 'q_proj', 'o_proj', 'down_proj']\n",
        ")\n",
        "\n",
        "# prepare model for training\n",
        "model = prepare_model_for_kbit_training(model)\n",
        "model = get_peft_model(model, peft_config)"
      ],
      "metadata": {
        "id": "F1qlIAFf050z"
      },
      "execution_count": null,
      "outputs": []
    },
    {
      "cell_type": "code",
      "source": [
        "model.get_nb_trainable_parameters()"
      ],
      "metadata": {
        "id": "gBO55sKd0659"
      },
      "execution_count": null,
      "outputs": []
    },
    {
      "cell_type": "code",
      "source": [
        "from transformers import TrainingArguments\n",
        "\n",
        "output_dir = \"./results\"\n",
        "\n",
        "# Training arguments\n",
        "training_arguments = TrainingArguments(\n",
        "    output_dir=output_dir,\n",
        "    per_device_train_batch_size=1,\n",
        "    gradient_accumulation_steps=8,\n",
        "    optim=\"paged_adamw_32bit\",\n",
        "    learning_rate=2e-4,\n",
        "    lr_scheduler_type=\"cosine\",\n",
        "    num_train_epochs=1,\n",
        "    logging_steps=10,\n",
        "    fp16=True,\n",
        "    gradient_checkpointing=True\n",
        ")"
      ],
      "metadata": {
        "id": "CO0Kznz209gQ"
      },
      "execution_count": null,
      "outputs": []
    },
    {
      "cell_type": "code",
      "execution_count": null,
      "metadata": {
        "id": "Vz7cOIQ7wXrF"
      },
      "outputs": [],
      "source": [
        "for name, module in model.named_modules():\n",
        "    print(name)"
      ]
    },
    {
      "cell_type": "code",
      "source": [
        "print(dataset[\"train\"][0])  # Inspect the first example in the dataset"
      ],
      "metadata": {
        "id": "0Y1Tzaih4L74"
      },
      "execution_count": null,
      "outputs": []
    },
    {
      "cell_type": "code",
      "source": [
        "tokenizer.pad_token = tokenizer.eos_token\n",
        "tokenizer.pad_token_id = tokenizer.eos_token_id"
      ],
      "metadata": {
        "id": "8JLMF6QL2eYe"
      },
      "execution_count": null,
      "outputs": []
    },
    {
      "cell_type": "code",
      "source": [
        "\n",
        "# Tokenize the dataset\n",
        "def tokenize_function(example):\n",
        "    return tokenizer(\n",
        "        example[\"story\"],  # Use the 'story' field for tokenization\n",
        "        padding=\"max_length\",\n",
        "        truncation=True,\n",
        "        max_length=8000,\n",
        "    )\n",
        "\n",
        "# Apply the tokenizer to the dataset\n",
        "tokenized_dataset = dataset.map(tokenize_function, batched=True)\n",
        "\n",
        "# Verify tokenized dataset\n",
        "print(tokenized_dataset[\"train\"][0])  # Check the tokenized output"
      ],
      "metadata": {
        "id": "L64RzgGm3qo4"
      },
      "execution_count": null,
      "outputs": []
    },
    {
      "cell_type": "code",
      "source": [
        "from trl import SFTTrainer\n",
        "import os\n",
        "from google.colab import output\n",
        "\n",
        "# Set supervised fine-tuning parameters\n",
        "trainer = SFTTrainer(\n",
        "    model=model,\n",
        "    train_dataset=dataset,\n",
        "    dataset_text_field=\"text\",\n",
        "    tokenizer=tokenizer,\n",
        "    args=training_arguments,\n",
        "    max_seq_length=1024,\n",
        "\n",
        "    # Leave this out for regular SFT\n",
        "    peft_config=peft_config,\n",
        ")\n",
        "\n",
        "# Train model\n",
        "trainer.train()\n",
        "\n",
        "trainer.model.save_pretrained(\"Llama-3.1-8B-qlora\")"
      ],
      "metadata": {
        "id": "4LWVBoB8BjRF"
      },
      "execution_count": null,
      "outputs": []
    },
    {
      "cell_type": "code",
      "source": [
        "merged_model = trainer.model.merge_and_unload()"
      ],
      "metadata": {
        "id": "zhiqQ1JZ3Gf0"
      },
      "execution_count": null,
      "outputs": []
    },
    {
      "cell_type": "code",
      "source": [
        "merged_model.eval()\n",
        "\n",
        "prompt = \"\"\"Create a story based on the given genre and title.\n",
        "Genre: Romance\n",
        "Title: Love Story Between James and Lucy\n",
        "Ensure the output includes the following in order:\n",
        "1. Characters\n",
        "2. The story\n",
        "Output:\n",
        "\"\"\"\n",
        "tokenized_prompt = tokenizer(prompt, return_tensors=\"pt\").to(\"cuda\")\n",
        "\n",
        "# Generate output\n",
        "output = merged_model.generate(**tokenized_prompt, max_length=1000)\n",
        "print(tokenizer.decode(output[0], skip_special_tokens=True))"
      ],
      "metadata": {
        "id": "sUceLHFwQ_sj"
      },
      "execution_count": null,
      "outputs": []
    }
  ],
  "metadata": {
    "kernelspec": {
      "display_name": "Python 3",
      "name": "python3"
    },
    "language_info": {
      "codemirror_mode": {
        "name": "ipython",
        "version": 3
      },
      "file_extension": ".py",
      "mimetype": "text/x-python",
      "name": "python",
      "nbconvert_exporter": "python",
      "pygments_lexer": "ipython3",
      "version": "3.10.12"
    },
    "colab": {
      "provenance": [],
      "gpuType": "T4",
      "include_colab_link": true
    },
    "accelerator": "GPU"
  },
  "nbformat": 4,
  "nbformat_minor": 0
}